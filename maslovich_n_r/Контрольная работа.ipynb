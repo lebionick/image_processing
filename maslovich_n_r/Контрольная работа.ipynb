{
 "cells": [
  {
   "cell_type": "code",
   "execution_count": 1,
   "metadata": {
    "collapsed": true
   },
   "outputs": [],
   "source": [
    "import cv2\n",
    "import numpy as np\n",
    "import matplotlib.pyplot as plt\n",
    "%matplotlib inline"
   ]
  },
  {
   "cell_type": "code",
   "execution_count": 2,
   "metadata": {
    "collapsed": true
   },
   "outputs": [],
   "source": [
    "plt.rcParams['figure.figsize'] = (9.0, 9.0)"
   ]
  },
  {
   "cell_type": "code",
   "execution_count": 101,
   "metadata": {
    "collapsed": true
   },
   "outputs": [],
   "source": [
    "from itertools import permutations"
   ]
  },
  {
   "cell_type": "code",
   "execution_count": 94,
   "metadata": {
    "collapsed": true
   },
   "outputs": [],
   "source": [
    "cell_size = 80"
   ]
  },
  {
   "cell_type": "code",
   "execution_count": 95,
   "metadata": {},
   "outputs": [],
   "source": [
    "img = np.zeros((3 * cell_size, 6 * cell_size), dtype=np.uint8)"
   ]
  },
  {
   "cell_type": "code",
   "execution_count": 96,
   "metadata": {
    "collapsed": true
   },
   "outputs": [],
   "source": [
    "colors = [0, 128, 255]"
   ]
  },
  {
   "cell_type": "code",
   "execution_count": 102,
   "metadata": {
    "collapsed": true
   },
   "outputs": [],
   "source": [
    "figures = ['circle', 'triangle', 'rectangle']"
   ]
  },
  {
   "cell_type": "code",
   "execution_count": 97,
   "metadata": {
    "collapsed": true
   },
   "outputs": [],
   "source": [
    "def generate_cell(size, color):\n",
    "    return np.zeros((cell_size, cell_size), dtype=np.uint8) + color"
   ]
  },
  {
   "cell_type": "code",
   "execution_count": 98,
   "metadata": {
    "collapsed": true
   },
   "outputs": [],
   "source": [
    "def draw_figure(cell, fig_type, color):\n",
    "    if fig_type == 'circle':\n",
    "        return cv2.circle(cell,(cell.shape[0] // 2, cell.shape[1] // 2), cell.shape[0] // 3, color, -1)\n",
    "    elif fig_type == 'triangle':\n",
    "        a = cell.shape[0] * 3 // 4\n",
    "        h = a * np.sqrt(3) // 2\n",
    "        pts = np.array([[a//2 ,0],[-a//2 ,0],[0, h]], np.int32) + np.array([cell.shape[0]//2, a//3])\n",
    "        pts = pts.reshape((-1,1,2))\n",
    "        return cv2.fillPoly(cell, [pts], color)\n",
    "    elif fig_type == 'rectangle':\n",
    "        return cv2.rectangle(cell,(cell.shape[0] // 4, cell.shape[1] // 4),\n",
    "                             (cell.shape[0] * 3 // 4, cell.shape[1] * 3 // 4), color, cv2.FILLED)\n",
    "    else:\n",
    "        raise Exception('unsupported figure type')"
   ]
  },
  {
   "cell_type": "code",
   "execution_count": 104,
   "metadata": {},
   "outputs": [
    {
     "name": "stdout",
     "output_type": "stream",
     "text": [
      "(0, 1)\n",
      "(0, 2)\n",
      "(1, 0)\n",
      "(1, 2)\n",
      "(2, 0)\n",
      "(2, 1)\n"
     ]
    }
   ],
   "source": [
    "iterator = permutations([0,1,2], 2)\n",
    "for i in iterator:\n",
    "    print(i)"
   ]
  },
  {
   "cell_type": "code",
   "execution_count": 109,
   "metadata": {
    "collapsed": true
   },
   "outputs": [],
   "source": [
    "def fill_image(img):\n",
    "    iterator = permutations([0,1,2], 2)\n",
    "    cells = []\n",
    "    for pair in iterator:\n",
    "        for figure in figures:\n",
    "            cells.append(draw_figure(generate_cell(cell_size, colors[pair[0]]), figure, colors[pair[1]]))\n",
    "    index = 0\n",
    "    for y in range(0, 3 * cell_size, cell_size):\n",
    "        for x in range(0, 6 * cell_size, cell_size):\n",
    "            img[y:y+cell_size, x:x+cell_size] = cells[index]\n",
    "            index += 1\n",
    "    return img"
   ]
  },
  {
   "cell_type": "code",
   "execution_count": 110,
   "metadata": {
    "collapsed": true
   },
   "outputs": [],
   "source": [
    "res = fill_image(img)"
   ]
  },
  {
   "cell_type": "code",
   "execution_count": 112,
   "metadata": {},
   "outputs": [
    {
     "data": {
      "text/plain": [
       "<matplotlib.image.AxesImage at 0x11612aba8>"
      ]
     },
     "execution_count": 112,
     "metadata": {},
     "output_type": "execute_result"
    },
    {
     "data": {
      "image/png": "[encoded data removed]",
      "text/plain": [
       "<matplotlib.figure.Figure at 0x115d5c8d0>"
      ]
     },
     "metadata": {},
     "output_type": "display_data"
    }
   ],
   "source": [
    "plt.imshow(res, cmap='gray')"
   ]
  },
  {
   "cell_type": "code",
   "execution_count": null,
   "metadata": {
    "collapsed": true
   },
   "outputs": [],
   "source": []
  }
 ],
 "metadata": {
  "kernelspec": {
   "display_name": "Python 3",
   "language": "python",
   "name": "python3"
  },
  "language_info": {
   "codemirror_mode": {
    "name": "ipython",
    "version": 3
   },
   "file_extension": ".py",
   "mimetype": "text/x-python",
   "name": "python",
   "nbconvert_exporter": "python",
   "pygments_lexer": "ipython3",
   "version": "3.6.2"
  }
 },
 "nbformat": 4,
 "nbformat_minor": 2
}
