{
 "cells": [
  {
   "cell_type": "markdown",
   "metadata": {},
   "source": [
    "## Generating image, finding different gradients of it, calculating module of the gradient and combining them into the new image"
   ]
  },
  {
   "cell_type": "markdown",
   "metadata": {},
   "source": [
    "### The first task: create image with all the combinations of background and fill colours of three different shapes of figures"
   ]
  },
  {
   "cell_type": "code",
   "execution_count": 1,
   "metadata": {
    "collapsed": true
   },
   "outputs": [],
   "source": [
    "import cv2\n",
    "import numpy as np\n",
    "import matplotlib.pyplot as plt\n",
    "%matplotlib inline"
   ]
  },
  {
   "cell_type": "code",
   "execution_count": 2,
   "metadata": {
    "collapsed": true
   },
   "outputs": [],
   "source": [
    "plt.rcParams['figure.figsize'] = (9.0, 9.0)"
   ]
  },
  {
   "cell_type": "code",
   "execution_count": 3,
   "metadata": {
    "collapsed": true
   },
   "outputs": [],
   "source": [
    "from itertools import permutations"
   ]
  },
  {
   "cell_type": "code",
   "execution_count": 4,
   "metadata": {
    "collapsed": true
   },
   "outputs": [],
   "source": [
    "cell_size = 80"
   ]
  },
  {
   "cell_type": "code",
   "execution_count": 5,
   "metadata": {
    "collapsed": true
   },
   "outputs": [],
   "source": [
    "img = np.zeros((3 * cell_size, 6 * cell_size), dtype=np.uint8)"
   ]
  },
  {
   "cell_type": "code",
   "execution_count": 6,
   "metadata": {
    "collapsed": true
   },
   "outputs": [],
   "source": [
    "colors = [0, 128, 255]"
   ]
  },
  {
   "cell_type": "code",
   "execution_count": 7,
   "metadata": {
    "collapsed": true
   },
   "outputs": [],
   "source": [
    "figures = ['circle', 'triangle', 'rectangle']"
   ]
  },
  {
   "cell_type": "code",
   "execution_count": 8,
   "metadata": {
    "collapsed": true
   },
   "outputs": [],
   "source": [
    "def generate_cell(size, color):\n",
    "    return np.zeros((cell_size, cell_size), dtype=np.uint8) + color"
   ]
  },
  {
   "cell_type": "code",
   "execution_count": 9,
   "metadata": {
    "collapsed": true
   },
   "outputs": [],
   "source": [
    "def draw_figure(cell, fig_type, color):\n",
    "    if fig_type == 'circle':\n",
    "        return cv2.circle(cell,(cell.shape[0] // 2, cell.shape[1] // 2), cell.shape[0] // 3, color, -1)\n",
    "    elif fig_type == 'triangle':\n",
    "        a = cell.shape[0] * 3 // 4\n",
    "        h = a * np.sqrt(3) // 2\n",
    "        pts = np.array([[a//2 ,0],[-a//2 ,0],[0, h]], np.int32) + np.array([cell.shape[0]//2, a//3])\n",
    "        pts = pts.reshape((-1,1,2))\n",
    "        return cv2.fillPoly(cell, [pts], color)\n",
    "    elif fig_type == 'rectangle':\n",
    "        return cv2.rectangle(cell,(cell.shape[0] // 4, cell.shape[1] // 4),\n",
    "                             (cell.shape[0] * 3 // 4, cell.shape[1] * 3 // 4), color, cv2.FILLED)\n",
    "    else:\n",
    "        raise Exception('unsupported figure type')"
   ]
  },
  {
   "cell_type": "code",
   "execution_count": 10,
   "metadata": {
    "collapsed": true
   },
   "outputs": [],
   "source": [
    "def fill_image(img):\n",
    "    iterator = permutations([0,1,2], 2)\n",
    "    cells = []\n",
    "    for pair in iterator:\n",
    "        for figure in figures:\n",
    "            cells.append(draw_figure(generate_cell(cell_size, colors[pair[0]]), figure, colors[pair[1]]))\n",
    "    index = 0\n",
    "    for y in range(0, 3 * cell_size, cell_size):\n",
    "        for x in range(0, 6 * cell_size, cell_size):\n",
    "            img[y:y+cell_size, x:x+cell_size] = cells[index]\n",
    "            index += 1\n",
    "    return img"
   ]
  },
  {
   "cell_type": "code",
   "execution_count": 11,
   "metadata": {
    "collapsed": true
   },
   "outputs": [],
   "source": [
    "res = fill_image(img)"
   ]
  },
  {
   "cell_type": "code",
   "execution_count": 12,
   "metadata": {
    "scrolled": true
   },
   "outputs": [
    {
     "data": {
      "text/plain": [
       "<matplotlib.image.AxesImage at 0x11164f6d8>"
      ]
     },
     "execution_count": 12,
     "metadata": {},
     "output_type": "execute_result"
    },
    {
     "data": {
      "image/png": "[encoded data removed]",
      "text/plain": [
       "<matplotlib.figure.Figure at 0x1115d73c8>"
      ]
     },
     "metadata": {},
     "output_type": "display_data"
    }
   ],
   "source": [
    "plt.imshow(res, cmap='gray')"
   ]
  },
  {
   "cell_type": "markdown",
   "metadata": {},
   "source": [
    "### Task 2: Find gradient and its module"
   ]
  },
  {
   "cell_type": "code",
   "execution_count": 14,
   "metadata": {
    "collapsed": true
   },
   "outputs": [],
   "source": [
    "filter_1 = np.array([[-1,0,1],[-1,0,1],[-1,0,1]])\n",
    "filter_2 = np.array([[-1,0,1],[-3,0,3],[-1,0,1]])"
   ]
  },
  {
   "cell_type": "code",
   "execution_count": 39,
   "metadata": {
    "collapsed": true
   },
   "outputs": [],
   "source": [
    "def apply_filter(img, kernel):\n",
    "    grad1 = cv2.filter2D(img, -1, kernel)\n",
    "    grad2 = cv2.filter2D(img, -1, kernel * -1)    \n",
    "    grad3 = cv2.filter2D(img, -1, kernel.T)    \n",
    "    grad4 = cv2.filter2D(img, -1, (kernel * -1).T)\n",
    "    res = np.zeros((*img.shape, 4))\n",
    "    res[:,:,0] = grad1\n",
    "    res[:,:,1] = grad2    \n",
    "    res[:,:,2] = grad3    \n",
    "    res[:,:,3] = grad4   \n",
    "    return res, grad1, grad4"
   ]
  },
  {
   "cell_type": "code",
   "execution_count": 40,
   "metadata": {
    "collapsed": true
   },
   "outputs": [],
   "source": [
    "def grad_module(grad):\n",
    "    return np.apply_along_axis(lambda x: np.linalg.norm(x, ord=1), -1, grad)"
   ]
  },
  {
   "cell_type": "code",
   "execution_count": 42,
   "metadata": {
    "collapsed": true
   },
   "outputs": [],
   "source": [
    "gradients_merged, gradient_1, gradient_2 = apply_filter(res, filter_2)\n",
    "module = grad_module(gradients_merged)"
   ]
  },
  {
   "cell_type": "code",
   "execution_count": 73,
   "metadata": {},
   "outputs": [
    {
     "data": {
      "text/plain": [
       "<matplotlib.image.AxesImage at 0x11470c588>"
      ]
     },
     "execution_count": 73,
     "metadata": {},
     "output_type": "execute_result"
    },
    {
     "data": {
      "image/png": "[encoded data removed]",
      "text/plain": [
       "<matplotlib.figure.Figure at 0x1138cc6a0>"
      ]
     },
     "metadata": {},
     "output_type": "display_data"
    }
   ],
   "source": [
    "plt.imshow(module, cmap='gray')"
   ]
  },
  {
   "cell_type": "code",
   "execution_count": 71,
   "metadata": {
    "collapsed": true
   },
   "outputs": [],
   "source": [
    "hsv_gradients = np.zeros((*module.shape, 3), dtype=np.uint8)\n",
    "hsv_gradients[:,:,0] = gradient_1 * 180 // 255\n",
    "hsv_gradients[:,:,1] = gradient_2\n",
    "hsv_gradients[:,:,2] = module * 255 // np.max(module)\n",
    "rgb_gradients = cv2.cvtColor(hsv_gradients, cv2.COLOR_HSV2RGB)"
   ]
  },
  {
   "cell_type": "code",
   "execution_count": 72,
   "metadata": {},
   "outputs": [
    {
     "name": "stdout",
     "output_type": "stream",
     "text": [
      "(240, 480)\n",
      "(240, 480, 4)\n",
      "(240, 480)\n",
      "(240, 480)\n",
      "(240, 480, 3)\n",
      "(240, 480, 3)\n"
     ]
    }
   ],
   "source": [
    "print(module.shape)\n",
    "print(gradients_merged.shape)\n",
    "print(gradient_1.shape)\n",
    "print(gradient_2.shape)\n",
    "print(hsv_gradients.shape)\n",
    "print(rgb_gradients.shape)"
   ]
  },
  {
   "cell_type": "code",
   "execution_count": 74,
   "metadata": {},
   "outputs": [
    {
     "data": {
      "text/plain": [
       "<matplotlib.image.AxesImage at 0x114a589b0>"
      ]
     },
     "execution_count": 74,
     "metadata": {},
     "output_type": "execute_result"
    },
    {
     "data": {
      "image/png": "[encoded data removed]",
      "text/plain": [
       "<matplotlib.figure.Figure at 0x114733b00>"
      ]
     },
     "metadata": {},
     "output_type": "display_data"
    }
   ],
   "source": [
    "plt.imshow(rgb_gradients)"
   ]
  },
  {
   "cell_type": "code",
   "execution_count": null,
   "metadata": {
    "collapsed": true
   },
   "outputs": [],
   "source": []
  }
 ],
 "metadata": {
  "kernelspec": {
   "display_name": "Python 3",
   "language": "python",
   "name": "python3"
  },
  "language_info": {
   "codemirror_mode": {
    "name": "ipython",
    "version": 3
   },
   "file_extension": ".py",
   "mimetype": "text/x-python",
   "name": "python",
   "nbconvert_exporter": "python",
   "pygments_lexer": "ipython3",
   "version": "3.6.2"
  }
 },
 "nbformat": 4,
 "nbformat_minor": 2
}
